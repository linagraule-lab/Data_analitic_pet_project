{
 "cells": [
  {
   "cell_type": "code",
   "execution_count": 541,
   "id": "607b9b87",
   "metadata": {},
   "outputs": [],
   "source": [
    "import pandas as pd\n",
    "import matplotlib.pyplot as plt\n",
    "import numpy as np\n",
    "from seaborn import heatmap\n",
    "from fancyimpute import IterativeImputer\n",
    "from random import randint"
   ]
  },
  {
   "cell_type": "markdown",
   "id": "f6101504",
   "metadata": {},
   "source": [
    "# Прогноз данных об одобрении кредита"
   ]
  },
  {
   "cell_type": "markdown",
   "id": "b8f00984",
   "metadata": {},
   "source": [
    "Заказщик - финансовая организация, выдающая все виды кредитов. Нужно понять какие факторы влияют на платежеспособность клиента.\n",
    "\n",
    "**Цели исследования:**\n",
    "1) Влияет ли гендер на вероятность возврата кредита в срок?\n",
    "2) Влияет ли семейное положение на вероятность возврата кредита в срок?\n",
    "3) Влияет ли зарплата на вероятность возврата кредита в срок?\n",
    "4) Влияет ли наличие образования на вероятность возврата кредита в срок?\n",
    "\n",
    "**Ход исследования:**\n",
    "\n",
    "Входные данные от банка — статистика о платёжеспособности клиентов — получены из файла data.csv. О качестве данных ничего не известно. Поэтому перед тем, как отвечать на вопрсоы исследования и делать вывод, понадобится обзор данных.\n",
    "Проверим данные на ошибки и оценим их влияние на исследование. Затем, на этапе предобработки, поищем возможность исправить самые критичные ошибки данных.\n",
    "\n",
    "После ответа на поставленные в исследовании вопросы, сделаем общией вывод.\n",
    "\n",
    "Таким образом, исследование пройдёт в четыре этапа:\n",
    "\n",
    "1) Обзор данных\n",
    "2) Предобработка данных\n",
    "3) Анализ данных и визуализация \n",
    "4) Общий вывод"
   ]
  },
  {
   "cell_type": "markdown",
   "id": "aaae6bcf",
   "metadata": {},
   "source": [
    "## 1. Загрузка и обзор данных"
   ]
  },
  {
   "cell_type": "code",
   "execution_count": 542,
   "id": "55aa8df4",
   "metadata": {},
   "outputs": [
    {
     "data": {
      "text/html": [
       "<div>\n",
       "<style scoped>\n",
       "    .dataframe tbody tr th:only-of-type {\n",
       "        vertical-align: middle;\n",
       "    }\n",
       "\n",
       "    .dataframe tbody tr th {\n",
       "        vertical-align: top;\n",
       "    }\n",
       "\n",
       "    .dataframe thead th {\n",
       "        text-align: right;\n",
       "    }\n",
       "</style>\n",
       "<table border=\"1\" class=\"dataframe\">\n",
       "  <thead>\n",
       "    <tr style=\"text-align: right;\">\n",
       "      <th></th>\n",
       "      <th>Loan_ID</th>\n",
       "      <th>Gender</th>\n",
       "      <th>Married</th>\n",
       "      <th>Dependents</th>\n",
       "      <th>Education</th>\n",
       "      <th>Self_Employed</th>\n",
       "      <th>ApplicantIncome</th>\n",
       "      <th>CoapplicantIncome</th>\n",
       "      <th>LoanAmount</th>\n",
       "      <th>Loan_Amount_Term</th>\n",
       "      <th>Credit_History</th>\n",
       "      <th>Property_Area</th>\n",
       "      <th>Loan_Status</th>\n",
       "    </tr>\n",
       "  </thead>\n",
       "  <tbody>\n",
       "    <tr>\n",
       "      <th>0</th>\n",
       "      <td>LP001002</td>\n",
       "      <td>Male</td>\n",
       "      <td>No</td>\n",
       "      <td>0</td>\n",
       "      <td>Graduate</td>\n",
       "      <td>No</td>\n",
       "      <td>5849</td>\n",
       "      <td>0.0</td>\n",
       "      <td>NaN</td>\n",
       "      <td>360.0</td>\n",
       "      <td>1.0</td>\n",
       "      <td>Urban</td>\n",
       "      <td>Y</td>\n",
       "    </tr>\n",
       "    <tr>\n",
       "      <th>1</th>\n",
       "      <td>LP001003</td>\n",
       "      <td>Male</td>\n",
       "      <td>Yes</td>\n",
       "      <td>1</td>\n",
       "      <td>Graduate</td>\n",
       "      <td>No</td>\n",
       "      <td>4583</td>\n",
       "      <td>1508.0</td>\n",
       "      <td>128.0</td>\n",
       "      <td>360.0</td>\n",
       "      <td>1.0</td>\n",
       "      <td>Rural</td>\n",
       "      <td>N</td>\n",
       "    </tr>\n",
       "    <tr>\n",
       "      <th>2</th>\n",
       "      <td>LP001005</td>\n",
       "      <td>Male</td>\n",
       "      <td>Yes</td>\n",
       "      <td>0</td>\n",
       "      <td>Graduate</td>\n",
       "      <td>Yes</td>\n",
       "      <td>3000</td>\n",
       "      <td>0.0</td>\n",
       "      <td>66.0</td>\n",
       "      <td>360.0</td>\n",
       "      <td>1.0</td>\n",
       "      <td>Urban</td>\n",
       "      <td>Y</td>\n",
       "    </tr>\n",
       "    <tr>\n",
       "      <th>3</th>\n",
       "      <td>LP001006</td>\n",
       "      <td>Male</td>\n",
       "      <td>Yes</td>\n",
       "      <td>0</td>\n",
       "      <td>Not Graduate</td>\n",
       "      <td>No</td>\n",
       "      <td>2583</td>\n",
       "      <td>2358.0</td>\n",
       "      <td>120.0</td>\n",
       "      <td>360.0</td>\n",
       "      <td>1.0</td>\n",
       "      <td>Urban</td>\n",
       "      <td>Y</td>\n",
       "    </tr>\n",
       "    <tr>\n",
       "      <th>4</th>\n",
       "      <td>LP001008</td>\n",
       "      <td>Male</td>\n",
       "      <td>No</td>\n",
       "      <td>0</td>\n",
       "      <td>Graduate</td>\n",
       "      <td>No</td>\n",
       "      <td>6000</td>\n",
       "      <td>0.0</td>\n",
       "      <td>141.0</td>\n",
       "      <td>360.0</td>\n",
       "      <td>1.0</td>\n",
       "      <td>Urban</td>\n",
       "      <td>Y</td>\n",
       "    </tr>\n",
       "    <tr>\n",
       "      <th>5</th>\n",
       "      <td>LP001011</td>\n",
       "      <td>Male</td>\n",
       "      <td>Yes</td>\n",
       "      <td>2</td>\n",
       "      <td>Graduate</td>\n",
       "      <td>Yes</td>\n",
       "      <td>5417</td>\n",
       "      <td>4196.0</td>\n",
       "      <td>267.0</td>\n",
       "      <td>360.0</td>\n",
       "      <td>1.0</td>\n",
       "      <td>Urban</td>\n",
       "      <td>Y</td>\n",
       "    </tr>\n",
       "    <tr>\n",
       "      <th>6</th>\n",
       "      <td>LP001013</td>\n",
       "      <td>Male</td>\n",
       "      <td>Yes</td>\n",
       "      <td>0</td>\n",
       "      <td>Not Graduate</td>\n",
       "      <td>No</td>\n",
       "      <td>2333</td>\n",
       "      <td>1516.0</td>\n",
       "      <td>95.0</td>\n",
       "      <td>360.0</td>\n",
       "      <td>1.0</td>\n",
       "      <td>Urban</td>\n",
       "      <td>Y</td>\n",
       "    </tr>\n",
       "    <tr>\n",
       "      <th>7</th>\n",
       "      <td>LP001014</td>\n",
       "      <td>Male</td>\n",
       "      <td>Yes</td>\n",
       "      <td>3+</td>\n",
       "      <td>Graduate</td>\n",
       "      <td>No</td>\n",
       "      <td>3036</td>\n",
       "      <td>2504.0</td>\n",
       "      <td>158.0</td>\n",
       "      <td>360.0</td>\n",
       "      <td>0.0</td>\n",
       "      <td>Semiurban</td>\n",
       "      <td>N</td>\n",
       "    </tr>\n",
       "    <tr>\n",
       "      <th>8</th>\n",
       "      <td>LP001018</td>\n",
       "      <td>Male</td>\n",
       "      <td>Yes</td>\n",
       "      <td>2</td>\n",
       "      <td>Graduate</td>\n",
       "      <td>No</td>\n",
       "      <td>4006</td>\n",
       "      <td>1526.0</td>\n",
       "      <td>168.0</td>\n",
       "      <td>360.0</td>\n",
       "      <td>1.0</td>\n",
       "      <td>Urban</td>\n",
       "      <td>Y</td>\n",
       "    </tr>\n",
       "    <tr>\n",
       "      <th>9</th>\n",
       "      <td>LP001020</td>\n",
       "      <td>Male</td>\n",
       "      <td>Yes</td>\n",
       "      <td>1</td>\n",
       "      <td>Graduate</td>\n",
       "      <td>No</td>\n",
       "      <td>12841</td>\n",
       "      <td>10968.0</td>\n",
       "      <td>349.0</td>\n",
       "      <td>360.0</td>\n",
       "      <td>1.0</td>\n",
       "      <td>Semiurban</td>\n",
       "      <td>N</td>\n",
       "    </tr>\n",
       "  </tbody>\n",
       "</table>\n",
       "</div>"
      ],
      "text/plain": [
       "    Loan_ID Gender Married Dependents     Education Self_Employed  \\\n",
       "0  LP001002   Male      No          0      Graduate            No   \n",
       "1  LP001003   Male     Yes          1      Graduate            No   \n",
       "2  LP001005   Male     Yes          0      Graduate           Yes   \n",
       "3  LP001006   Male     Yes          0  Not Graduate            No   \n",
       "4  LP001008   Male      No          0      Graduate            No   \n",
       "5  LP001011   Male     Yes          2      Graduate           Yes   \n",
       "6  LP001013   Male     Yes          0  Not Graduate            No   \n",
       "7  LP001014   Male     Yes         3+      Graduate            No   \n",
       "8  LP001018   Male     Yes          2      Graduate            No   \n",
       "9  LP001020   Male     Yes          1      Graduate            No   \n",
       "\n",
       "   ApplicantIncome  CoapplicantIncome  LoanAmount  Loan_Amount_Term  \\\n",
       "0             5849                0.0         NaN             360.0   \n",
       "1             4583             1508.0       128.0             360.0   \n",
       "2             3000                0.0        66.0             360.0   \n",
       "3             2583             2358.0       120.0             360.0   \n",
       "4             6000                0.0       141.0             360.0   \n",
       "5             5417             4196.0       267.0             360.0   \n",
       "6             2333             1516.0        95.0             360.0   \n",
       "7             3036             2504.0       158.0             360.0   \n",
       "8             4006             1526.0       168.0             360.0   \n",
       "9            12841            10968.0       349.0             360.0   \n",
       "\n",
       "   Credit_History Property_Area Loan_Status  \n",
       "0             1.0         Urban           Y  \n",
       "1             1.0         Rural           N  \n",
       "2             1.0         Urban           Y  \n",
       "3             1.0         Urban           Y  \n",
       "4             1.0         Urban           Y  \n",
       "5             1.0         Urban           Y  \n",
       "6             1.0         Urban           Y  \n",
       "7             0.0     Semiurban           N  \n",
       "8             1.0         Urban           Y  \n",
       "9             1.0     Semiurban           N  "
      ]
     },
     "execution_count": 542,
     "metadata": {},
     "output_type": "execute_result"
    }
   ],
   "source": [
    "# try:\n",
    "#     data = pd.read_csv('/datasets/data.csv')\n",
    "# except:\n",
    "#     data = pd.read_csv('https://code.s3.yandex.net/datasets/data.csv')\n",
    "\n",
    "# безопасней чиать файл так, но сначала нужно загрузить данные в облачное хранилище \n",
    "\n",
    "df = pd.read_csv('/home/angelina/Документы/ data_finance /train.csv')\n",
    "df.head(10)"
   ]
  },
  {
   "cell_type": "markdown",
   "id": "bbb671ed",
   "metadata": {},
   "source": [
    "Удалим ненужные сотлбцы \n",
    "\n",
    "Loan_ID не несет никакой полезной информации, его можно удалить"
   ]
  },
  {
   "cell_type": "code",
   "execution_count": 543,
   "id": "27429461",
   "metadata": {},
   "outputs": [],
   "source": [
    "# df = df.drop(columns='Load_ID')"
   ]
  },
  {
   "cell_type": "markdown",
   "id": "8e41fe4e",
   "metadata": {},
   "source": [
    "Получим размер выборки"
   ]
  },
  {
   "cell_type": "code",
   "execution_count": 544,
   "id": "f4cc1178",
   "metadata": {},
   "outputs": [
    {
     "data": {
      "text/plain": [
       "(614, 13)"
      ]
     },
     "execution_count": 544,
     "metadata": {},
     "output_type": "execute_result"
    }
   ],
   "source": [
    "df.shape"
   ]
  },
  {
   "cell_type": "markdown",
   "id": "a9ffe43e",
   "metadata": {},
   "source": [
    "Получим основную информацию о дата сете"
   ]
  },
  {
   "cell_type": "code",
   "execution_count": 545,
   "id": "56ca9f94",
   "metadata": {},
   "outputs": [
    {
     "name": "stdout",
     "output_type": "stream",
     "text": [
      "<class 'pandas.core.frame.DataFrame'>\n",
      "RangeIndex: 614 entries, 0 to 613\n",
      "Data columns (total 13 columns):\n",
      " #   Column             Non-Null Count  Dtype  \n",
      "---  ------             --------------  -----  \n",
      " 0   Loan_ID            614 non-null    object \n",
      " 1   Gender             601 non-null    object \n",
      " 2   Married            611 non-null    object \n",
      " 3   Dependents         599 non-null    object \n",
      " 4   Education          614 non-null    object \n",
      " 5   Self_Employed      582 non-null    object \n",
      " 6   ApplicantIncome    614 non-null    int64  \n",
      " 7   CoapplicantIncome  614 non-null    float64\n",
      " 8   LoanAmount         592 non-null    float64\n",
      " 9   Loan_Amount_Term   600 non-null    float64\n",
      " 10  Credit_History     564 non-null    float64\n",
      " 11  Property_Area      614 non-null    object \n",
      " 12  Loan_Status        614 non-null    object \n",
      "dtypes: float64(4), int64(1), object(8)\n",
      "memory usage: 62.5+ KB\n"
     ]
    }
   ],
   "source": [
    "df.info()"
   ]
  },
  {
   "cell_type": "code",
   "execution_count": 546,
   "id": "32a7ca3e",
   "metadata": {},
   "outputs": [
    {
     "name": "stderr",
     "output_type": "stream",
     "text": [
      "/tmp/ipykernel_12737/879548836.py:1: FutureWarning: DataFrame.applymap has been deprecated. Use DataFrame.map instead.\n",
      "  df.describe().applymap(lambda x: round(x, 2))\n"
     ]
    },
    {
     "data": {
      "text/html": [
       "<div>\n",
       "<style scoped>\n",
       "    .dataframe tbody tr th:only-of-type {\n",
       "        vertical-align: middle;\n",
       "    }\n",
       "\n",
       "    .dataframe tbody tr th {\n",
       "        vertical-align: top;\n",
       "    }\n",
       "\n",
       "    .dataframe thead th {\n",
       "        text-align: right;\n",
       "    }\n",
       "</style>\n",
       "<table border=\"1\" class=\"dataframe\">\n",
       "  <thead>\n",
       "    <tr style=\"text-align: right;\">\n",
       "      <th></th>\n",
       "      <th>ApplicantIncome</th>\n",
       "      <th>CoapplicantIncome</th>\n",
       "      <th>LoanAmount</th>\n",
       "      <th>Loan_Amount_Term</th>\n",
       "      <th>Credit_History</th>\n",
       "    </tr>\n",
       "  </thead>\n",
       "  <tbody>\n",
       "    <tr>\n",
       "      <th>count</th>\n",
       "      <td>614.00</td>\n",
       "      <td>614.00</td>\n",
       "      <td>592.00</td>\n",
       "      <td>600.00</td>\n",
       "      <td>564.00</td>\n",
       "    </tr>\n",
       "    <tr>\n",
       "      <th>mean</th>\n",
       "      <td>5403.46</td>\n",
       "      <td>1621.25</td>\n",
       "      <td>146.41</td>\n",
       "      <td>342.00</td>\n",
       "      <td>0.84</td>\n",
       "    </tr>\n",
       "    <tr>\n",
       "      <th>std</th>\n",
       "      <td>6109.04</td>\n",
       "      <td>2926.25</td>\n",
       "      <td>85.59</td>\n",
       "      <td>65.12</td>\n",
       "      <td>0.36</td>\n",
       "    </tr>\n",
       "    <tr>\n",
       "      <th>min</th>\n",
       "      <td>150.00</td>\n",
       "      <td>0.00</td>\n",
       "      <td>9.00</td>\n",
       "      <td>12.00</td>\n",
       "      <td>0.00</td>\n",
       "    </tr>\n",
       "    <tr>\n",
       "      <th>25%</th>\n",
       "      <td>2877.50</td>\n",
       "      <td>0.00</td>\n",
       "      <td>100.00</td>\n",
       "      <td>360.00</td>\n",
       "      <td>1.00</td>\n",
       "    </tr>\n",
       "    <tr>\n",
       "      <th>50%</th>\n",
       "      <td>3812.50</td>\n",
       "      <td>1188.50</td>\n",
       "      <td>128.00</td>\n",
       "      <td>360.00</td>\n",
       "      <td>1.00</td>\n",
       "    </tr>\n",
       "    <tr>\n",
       "      <th>75%</th>\n",
       "      <td>5795.00</td>\n",
       "      <td>2297.25</td>\n",
       "      <td>168.00</td>\n",
       "      <td>360.00</td>\n",
       "      <td>1.00</td>\n",
       "    </tr>\n",
       "    <tr>\n",
       "      <th>max</th>\n",
       "      <td>81000.00</td>\n",
       "      <td>41667.00</td>\n",
       "      <td>700.00</td>\n",
       "      <td>480.00</td>\n",
       "      <td>1.00</td>\n",
       "    </tr>\n",
       "  </tbody>\n",
       "</table>\n",
       "</div>"
      ],
      "text/plain": [
       "       ApplicantIncome  CoapplicantIncome  LoanAmount  Loan_Amount_Term  \\\n",
       "count           614.00             614.00      592.00            600.00   \n",
       "mean           5403.46            1621.25      146.41            342.00   \n",
       "std            6109.04            2926.25       85.59             65.12   \n",
       "min             150.00               0.00        9.00             12.00   \n",
       "25%            2877.50               0.00      100.00            360.00   \n",
       "50%            3812.50            1188.50      128.00            360.00   \n",
       "75%            5795.00            2297.25      168.00            360.00   \n",
       "max           81000.00           41667.00      700.00            480.00   \n",
       "\n",
       "       Credit_History  \n",
       "count          564.00  \n",
       "mean             0.84  \n",
       "std              0.36  \n",
       "min              0.00  \n",
       "25%              1.00  \n",
       "50%              1.00  \n",
       "75%              1.00  \n",
       "max              1.00  "
      ]
     },
     "execution_count": 546,
     "metadata": {},
     "output_type": "execute_result"
    }
   ],
   "source": [
    "df.describe().applymap(lambda x: round(x, 2))"
   ]
  },
  {
   "cell_type": "markdown",
   "id": "e5d670b5",
   "metadata": {},
   "source": [
    "## 2. Предобработка данных"
   ]
  },
  {
   "cell_type": "markdown",
   "id": "425f886d",
   "metadata": {},
   "source": [
    "###  2.1 Обработка пропусков "
   ]
  },
  {
   "cell_type": "markdown",
   "id": "d404560a",
   "metadata": {},
   "source": [
    "Посмотрим сколько пропусков в данных есть для каждого столбца"
   ]
  },
  {
   "cell_type": "code",
   "execution_count": 547,
   "id": "d7c7b35b",
   "metadata": {},
   "outputs": [
    {
     "data": {
      "text/plain": [
       "Loan_ID               0\n",
       "Gender               13\n",
       "Married               3\n",
       "Dependents           15\n",
       "Education             0\n",
       "Self_Employed        32\n",
       "ApplicantIncome       0\n",
       "CoapplicantIncome     0\n",
       "LoanAmount           22\n",
       "Loan_Amount_Term     14\n",
       "Credit_History       50\n",
       "Property_Area         0\n",
       "Loan_Status           0\n",
       "dtype: int64"
      ]
     },
     "execution_count": 547,
     "metadata": {},
     "output_type": "execute_result"
    }
   ],
   "source": [
    "df.isnull().sum()"
   ]
  },
  {
   "cell_type": "code",
   "execution_count": 548,
   "id": "50e6ae63",
   "metadata": {},
   "outputs": [
    {
     "data": {
      "text/html": [
       "<div>\n",
       "<style scoped>\n",
       "    .dataframe tbody tr th:only-of-type {\n",
       "        vertical-align: middle;\n",
       "    }\n",
       "\n",
       "    .dataframe tbody tr th {\n",
       "        vertical-align: top;\n",
       "    }\n",
       "\n",
       "    .dataframe thead th {\n",
       "        text-align: right;\n",
       "    }\n",
       "</style>\n",
       "<table border=\"1\" class=\"dataframe\">\n",
       "  <thead>\n",
       "    <tr style=\"text-align: right;\">\n",
       "      <th></th>\n",
       "      <th>Loan_ID</th>\n",
       "      <th>Gender</th>\n",
       "      <th>Married</th>\n",
       "      <th>Dependents</th>\n",
       "      <th>Education</th>\n",
       "      <th>Self_Employed</th>\n",
       "      <th>ApplicantIncome</th>\n",
       "      <th>CoapplicantIncome</th>\n",
       "      <th>LoanAmount</th>\n",
       "      <th>Loan_Amount_Term</th>\n",
       "      <th>Credit_History</th>\n",
       "      <th>Property_Area</th>\n",
       "      <th>Loan_Status</th>\n",
       "    </tr>\n",
       "  </thead>\n",
       "  <tbody>\n",
       "    <tr>\n",
       "      <th>95</th>\n",
       "      <td>LP001326</td>\n",
       "      <td>Male</td>\n",
       "      <td>No</td>\n",
       "      <td>0</td>\n",
       "      <td>Graduate</td>\n",
       "      <td>NaN</td>\n",
       "      <td>6782</td>\n",
       "      <td>0.0</td>\n",
       "      <td>NaN</td>\n",
       "      <td>360.0</td>\n",
       "      <td>NaN</td>\n",
       "      <td>Urban</td>\n",
       "      <td>N</td>\n",
       "    </tr>\n",
       "    <tr>\n",
       "      <th>435</th>\n",
       "      <td>LP002393</td>\n",
       "      <td>Female</td>\n",
       "      <td>NaN</td>\n",
       "      <td>NaN</td>\n",
       "      <td>Graduate</td>\n",
       "      <td>No</td>\n",
       "      <td>10047</td>\n",
       "      <td>0.0</td>\n",
       "      <td>NaN</td>\n",
       "      <td>240.0</td>\n",
       "      <td>1.0</td>\n",
       "      <td>Semiurban</td>\n",
       "      <td>Y</td>\n",
       "    </tr>\n",
       "  </tbody>\n",
       "</table>\n",
       "</div>"
      ],
      "text/plain": [
       "      Loan_ID  Gender Married Dependents Education Self_Employed  \\\n",
       "95   LP001326    Male      No          0  Graduate           NaN   \n",
       "435  LP002393  Female     NaN        NaN  Graduate            No   \n",
       "\n",
       "     ApplicantIncome  CoapplicantIncome  LoanAmount  Loan_Amount_Term  \\\n",
       "95              6782                0.0         NaN             360.0   \n",
       "435            10047                0.0         NaN             240.0   \n",
       "\n",
       "     Credit_History Property_Area Loan_Status  \n",
       "95              NaN         Urban           N  \n",
       "435             1.0     Semiurban           Y  "
      ]
     },
     "execution_count": 548,
     "metadata": {},
     "output_type": "execute_result"
    }
   ],
   "source": [
    "df[df.isnull().sum(axis=1) >= 3]"
   ]
  },
  {
   "cell_type": "code",
   "execution_count": 549,
   "id": "c290ed79",
   "metadata": {},
   "outputs": [
    {
     "data": {
      "text/plain": [
       "(Education\n",
       " Graduate        480\n",
       " Not Graduate    134\n",
       " Name: count, dtype: int64,\n",
       " Married\n",
       " Yes    398\n",
       " No     213\n",
       " Name: count, dtype: int64,\n",
       " Self_Employed\n",
       " No     500\n",
       " Yes     82\n",
       " Name: count, dtype: int64,\n",
       " Loan_Status\n",
       " Y    422\n",
       " N    192\n",
       " Name: count, dtype: int64,\n",
       " Gender\n",
       " Male      489\n",
       " Female    112\n",
       " Name: count, dtype: int64)"
      ]
     },
     "execution_count": 549,
     "metadata": {},
     "output_type": "execute_result"
    }
   ],
   "source": [
    "df['Education'].value_counts(), df['Married'].value_counts(), df['Self_Employed'].value_counts(), df['Loan_Status'].value_counts(), df['Gender'].value_counts()\n"
   ]
  },
  {
   "cell_type": "markdown",
   "id": "b9bf7024",
   "metadata": {},
   "source": [
    "Можно заметить, что 5 колонок с категориальными признаками имеют только два значения. Можем изменить на значения 0 и 1, чтоб можено было провести корреляционный анализ, с помощью heatmap"
   ]
  },
  {
   "cell_type": "code",
   "execution_count": 550,
   "id": "36f1c0cc",
   "metadata": {},
   "outputs": [
    {
     "data": {
      "text/html": [
       "<div>\n",
       "<style scoped>\n",
       "    .dataframe tbody tr th:only-of-type {\n",
       "        vertical-align: middle;\n",
       "    }\n",
       "\n",
       "    .dataframe tbody tr th {\n",
       "        vertical-align: top;\n",
       "    }\n",
       "\n",
       "    .dataframe thead th {\n",
       "        text-align: right;\n",
       "    }\n",
       "</style>\n",
       "<table border=\"1\" class=\"dataframe\">\n",
       "  <thead>\n",
       "    <tr style=\"text-align: right;\">\n",
       "      <th></th>\n",
       "      <th>Loan_ID</th>\n",
       "      <th>Gender</th>\n",
       "      <th>Married</th>\n",
       "      <th>Dependents</th>\n",
       "      <th>Education</th>\n",
       "      <th>Self_Employed</th>\n",
       "      <th>ApplicantIncome</th>\n",
       "      <th>CoapplicantIncome</th>\n",
       "      <th>LoanAmount</th>\n",
       "      <th>Loan_Amount_Term</th>\n",
       "      <th>Credit_History</th>\n",
       "      <th>Property_Area</th>\n",
       "      <th>Loan_Status</th>\n",
       "    </tr>\n",
       "  </thead>\n",
       "  <tbody>\n",
       "    <tr>\n",
       "      <th>0</th>\n",
       "      <td>LP001002</td>\n",
       "      <td>1.0</td>\n",
       "      <td>0.0</td>\n",
       "      <td>0</td>\n",
       "      <td>1</td>\n",
       "      <td>0.0</td>\n",
       "      <td>5849</td>\n",
       "      <td>0.0</td>\n",
       "      <td>NaN</td>\n",
       "      <td>360.0</td>\n",
       "      <td>1.0</td>\n",
       "      <td>Urban</td>\n",
       "      <td>1</td>\n",
       "    </tr>\n",
       "    <tr>\n",
       "      <th>1</th>\n",
       "      <td>LP001003</td>\n",
       "      <td>1.0</td>\n",
       "      <td>1.0</td>\n",
       "      <td>1</td>\n",
       "      <td>1</td>\n",
       "      <td>0.0</td>\n",
       "      <td>4583</td>\n",
       "      <td>1508.0</td>\n",
       "      <td>128.0</td>\n",
       "      <td>360.0</td>\n",
       "      <td>1.0</td>\n",
       "      <td>Rural</td>\n",
       "      <td>0</td>\n",
       "    </tr>\n",
       "    <tr>\n",
       "      <th>2</th>\n",
       "      <td>LP001005</td>\n",
       "      <td>1.0</td>\n",
       "      <td>1.0</td>\n",
       "      <td>0</td>\n",
       "      <td>1</td>\n",
       "      <td>1.0</td>\n",
       "      <td>3000</td>\n",
       "      <td>0.0</td>\n",
       "      <td>66.0</td>\n",
       "      <td>360.0</td>\n",
       "      <td>1.0</td>\n",
       "      <td>Urban</td>\n",
       "      <td>1</td>\n",
       "    </tr>\n",
       "    <tr>\n",
       "      <th>3</th>\n",
       "      <td>LP001006</td>\n",
       "      <td>1.0</td>\n",
       "      <td>1.0</td>\n",
       "      <td>0</td>\n",
       "      <td>0</td>\n",
       "      <td>0.0</td>\n",
       "      <td>2583</td>\n",
       "      <td>2358.0</td>\n",
       "      <td>120.0</td>\n",
       "      <td>360.0</td>\n",
       "      <td>1.0</td>\n",
       "      <td>Urban</td>\n",
       "      <td>1</td>\n",
       "    </tr>\n",
       "    <tr>\n",
       "      <th>4</th>\n",
       "      <td>LP001008</td>\n",
       "      <td>1.0</td>\n",
       "      <td>0.0</td>\n",
       "      <td>0</td>\n",
       "      <td>1</td>\n",
       "      <td>0.0</td>\n",
       "      <td>6000</td>\n",
       "      <td>0.0</td>\n",
       "      <td>141.0</td>\n",
       "      <td>360.0</td>\n",
       "      <td>1.0</td>\n",
       "      <td>Urban</td>\n",
       "      <td>1</td>\n",
       "    </tr>\n",
       "  </tbody>\n",
       "</table>\n",
       "</div>"
      ],
      "text/plain": [
       "    Loan_ID  Gender  Married Dependents  Education  Self_Employed  \\\n",
       "0  LP001002     1.0      0.0          0          1            0.0   \n",
       "1  LP001003     1.0      1.0          1          1            0.0   \n",
       "2  LP001005     1.0      1.0          0          1            1.0   \n",
       "3  LP001006     1.0      1.0          0          0            0.0   \n",
       "4  LP001008     1.0      0.0          0          1            0.0   \n",
       "\n",
       "   ApplicantIncome  CoapplicantIncome  LoanAmount  Loan_Amount_Term  \\\n",
       "0             5849                0.0         NaN             360.0   \n",
       "1             4583             1508.0       128.0             360.0   \n",
       "2             3000                0.0        66.0             360.0   \n",
       "3             2583             2358.0       120.0             360.0   \n",
       "4             6000                0.0       141.0             360.0   \n",
       "\n",
       "   Credit_History Property_Area  Loan_Status  \n",
       "0             1.0         Urban            1  \n",
       "1             1.0         Rural            0  \n",
       "2             1.0         Urban            1  \n",
       "3             1.0         Urban            1  \n",
       "4             1.0         Urban            1  "
      ]
     },
     "execution_count": 550,
     "metadata": {},
     "output_type": "execute_result"
    }
   ],
   "source": [
    "df['Married'] = df['Married'].map({'Yes': 1, 'No': 0, 'Y': 1, 'N': 0})\n",
    "df['Loan_Status'] = df['Loan_Status'].map({'Yes': 1, 'No': 0, 'Y': 1, 'N': 0})\n",
    "df['Education'] = df['Education'].map({'Graduate': 1, 'Not Graduate': 0})\n",
    "df['Self_Employed'] = df['Self_Employed'].map({'Yes': 1, 'No': 0})\n",
    "df['Gender'] = df['Gender'].map({'Male': 1, 'Female': 0})\n",
    "\n",
    "df.head()"
   ]
  },
  {
   "cell_type": "markdown",
   "id": "a2a3e699",
   "metadata": {},
   "source": [
    "Посмотрим корреляцию данных, наша задача найти зависимости стобцов:\n",
    "* Dependents, \n",
    "* Self_Employed, \n",
    "* LoanAmount,\n",
    "* Loan_Amount_Term, \n",
    "* Credit_History,\n",
    "\n",
    "с другими данными. Смотим именно на эти столбцы, так как в них большое количество отсутствующих значений важных для исследования "
   ]
  },
  {
   "cell_type": "code",
   "execution_count": 551,
   "id": "1d0c6980",
   "metadata": {},
   "outputs": [
    {
     "data": {
      "text/plain": [
       "<Axes: >"
      ]
     },
     "execution_count": 551,
     "metadata": {},
     "output_type": "execute_result"
    },
    {
     "data": {
      "image/png": "[encoded data removed]",
      "text/plain": [
       "<Figure size 640x480 with 2 Axes>"
      ]
     },
     "metadata": {},
     "output_type": "display_data"
    }
   ],
   "source": [
    "corr_df = df.corr(numeric_only=True)\n",
    "heatmap(corr_df, annot=True, cmap='coolwarm')"
   ]
  },
  {
   "cell_type": "markdown",
   "id": "2fda8e04",
   "metadata": {},
   "source": [
    "Заполняем пропуски в данных необходимых для исследования "
   ]
  },
  {
   "cell_type": "markdown",
   "id": "18400333",
   "metadata": {},
   "source": [
    "Используем **IterativeImputer** для этих столбцов. **LoanAmount, Credit_History, Gender** имеют сильные корреляции с другими признаками, а **MICE**  хорошо работает с такими взаимосвязанными данными."
   ]
  },
  {
   "cell_type": "code",
   "execution_count": 552,
   "id": "cfcec46d",
   "metadata": {},
   "outputs": [],
   "source": [
    "df.loc[:, ['LoanAmount', 'Credit_History', 'Gender']] = IterativeImputer().fit_transform(df.loc[:, ['LoanAmount', 'Credit_History', 'Gender']])"
   ]
  },
  {
   "cell_type": "code",
   "execution_count": 553,
   "id": "796c87f1",
   "metadata": {},
   "outputs": [
    {
     "data": {
      "text/plain": [
       "Loan_ID               0\n",
       "Gender                0\n",
       "Married               3\n",
       "Dependents           15\n",
       "Education             0\n",
       "Self_Employed        32\n",
       "ApplicantIncome       0\n",
       "CoapplicantIncome     0\n",
       "LoanAmount            0\n",
       "Loan_Amount_Term     14\n",
       "Credit_History        0\n",
       "Property_Area         0\n",
       "Loan_Status           0\n",
       "dtype: int64"
      ]
     },
     "execution_count": 553,
     "metadata": {},
     "output_type": "execute_result"
    }
   ],
   "source": [
    "df.isna().sum()"
   ]
  },
  {
   "cell_type": "markdown",
   "id": "e4167e78",
   "metadata": {},
   "source": [
    "во всех данных, которые были небходимы для исследования, заполнены отсутствующие значения"
   ]
  },
  {
   "cell_type": "markdown",
   "id": "e2374ddb",
   "metadata": {},
   "source": [
    "### 2.3 Обработка дубликатов"
   ]
  },
  {
   "cell_type": "code",
   "execution_count": 554,
   "id": "7cb460cf",
   "metadata": {},
   "outputs": [
    {
     "data": {
      "text/plain": [
       "np.int64(0)"
      ]
     },
     "execution_count": 554,
     "metadata": {},
     "output_type": "execute_result"
    }
   ],
   "source": [
    "df.duplicated().sum()"
   ]
  },
  {
   "cell_type": "code",
   "execution_count": 555,
   "id": "96169d4b",
   "metadata": {},
   "outputs": [],
   "source": [
    "df = df.drop_duplicates()"
   ]
  },
  {
   "cell_type": "code",
   "execution_count": 556,
   "id": "617db872",
   "metadata": {},
   "outputs": [
    {
     "name": "stdout",
     "output_type": "stream",
     "text": [
      "<class 'pandas.core.frame.DataFrame'>\n",
      "RangeIndex: 614 entries, 0 to 613\n",
      "Data columns (total 13 columns):\n",
      " #   Column             Non-Null Count  Dtype  \n",
      "---  ------             --------------  -----  \n",
      " 0   Loan_ID            614 non-null    object \n",
      " 1   Gender             614 non-null    float64\n",
      " 2   Married            611 non-null    float64\n",
      " 3   Dependents         599 non-null    object \n",
      " 4   Education          614 non-null    int64  \n",
      " 5   Self_Employed      582 non-null    float64\n",
      " 6   ApplicantIncome    614 non-null    int64  \n",
      " 7   CoapplicantIncome  614 non-null    float64\n",
      " 8   LoanAmount         614 non-null    float64\n",
      " 9   Loan_Amount_Term   600 non-null    float64\n",
      " 10  Credit_History     614 non-null    float64\n",
      " 11  Property_Area      614 non-null    object \n",
      " 12  Loan_Status        614 non-null    int64  \n",
      "dtypes: float64(7), int64(3), object(3)\n",
      "memory usage: 62.5+ KB\n"
     ]
    }
   ],
   "source": [
    "df.info()"
   ]
  },
  {
   "cell_type": "markdown",
   "id": "0c56e7eb",
   "metadata": {},
   "source": [
    " ### 2.4 Обработка выбросов"
   ]
  },
  {
   "cell_type": "markdown",
   "id": "070bcc1a",
   "metadata": {},
   "source": [
    "Для обработки выбросов в столбце LoadAmount будем использовать правило трех сигм"
   ]
  },
  {
   "cell_type": "code",
   "execution_count": 557,
   "id": "4947457d",
   "metadata": {},
   "outputs": [
    {
     "data": {
      "text/plain": [
       "(130    650.0\n",
       " 155    600.0\n",
       " 171    700.0\n",
       " 177    495.0\n",
       " 278    436.0\n",
       " 308    480.0\n",
       " 333    490.0\n",
       " 369    570.0\n",
       " 432    405.0\n",
       " 487    500.0\n",
       " 506    480.0\n",
       " 523    480.0\n",
       " 525    400.0\n",
       " 561    600.0\n",
       " 604    496.0\n",
       " Name: LoanAmount, dtype: float64,\n",
       " (15, 13))"
      ]
     },
     "execution_count": 557,
     "metadata": {},
     "output_type": "execute_result"
    }
   ],
   "source": [
    "mean_load = df['LoanAmount'].mean()\n",
    "std_load = df['LoanAmount'].std()\n",
    "data_outlier = df[(df['LoanAmount'] > (mean_load + 3*std_load)) | (df['LoanAmount'] < (mean_load - 3*std_load))] \n",
    "data_outlier['LoanAmount'], data_outlier.shape"
   ]
  },
  {
   "cell_type": "markdown",
   "id": "68404e06",
   "metadata": {},
   "source": [
    "* 0–100 — '0-100';\n",
    "* 101–200 — '100-200';\n",
    "* 201–300 — '200-300';\n",
    "* 301–400 — '300-400';\n",
    "* 401-500 — '400-500'.\n",
    "* 501 и выше — '500-700'."
   ]
  },
  {
   "cell_type": "code",
   "execution_count": 558,
   "id": "d796f352",
   "metadata": {},
   "outputs": [],
   "source": [
    "def categorize_income(income):\n",
    "    try:\n",
    "        if 0 <= income <= 100:\n",
    "            return '0-100'\n",
    "        elif 101 <= income <= 200:\n",
    "            return '100-200'\n",
    "        elif 201 <= income <= 300:\n",
    "            return '200-300'\n",
    "        elif 301 <= income <= 400:\n",
    "            return '300-400'\n",
    "        elif 401 <= income <= 500:\n",
    "            return '400-500'\n",
    "        elif 501 <= income <= 700:\n",
    "            return '500-700'\n",
    "    except:\n",
    "        pass"
   ]
  },
  {
   "cell_type": "code",
   "execution_count": 559,
   "id": "6d58e8c6",
   "metadata": {},
   "outputs": [],
   "source": [
    "df['LoanAmount_category'] = df['LoanAmount'].apply(categorize_income)"
   ]
  },
  {
   "cell_type": "code",
   "execution_count": 560,
   "id": "fe73a051",
   "metadata": {},
   "outputs": [],
   "source": [
    "grop = df.groupby('LoanAmount_category')['Loan_ID'].count()"
   ]
  },
  {
   "cell_type": "code",
   "execution_count": 561,
   "id": "de4cf915",
   "metadata": {},
   "outputs": [
    {
     "data": {
      "text/plain": [
       "<Axes: xlabel='LoanAmount_category'>"
      ]
     },
     "execution_count": 561,
     "metadata": {},
     "output_type": "execute_result"
    },
    {
     "data": {
      "image/png": "[encoded data removed]",
      "text/plain": [
       "<Figure size 640x480 with 1 Axes>"
      ]
     },
     "metadata": {},
     "output_type": "display_data"
    }
   ],
   "source": [
    "grop.plot(kind='bar', y='LoanAmount_category')"
   ]
  },
  {
   "cell_type": "markdown",
   "id": "51648f65",
   "metadata": {},
   "source": [
    "Зарплата 500-700 тысяч, хотя не подчиняется правилам трех сигм, не является выбросом "
   ]
  },
  {
   "cell_type": "markdown",
   "id": "fa867324",
   "metadata": {},
   "source": [
    "## 3. Анализ и визуализация "
   ]
  },
  {
   "cell_type": "code",
   "execution_count": 562,
   "id": "b4babd16",
   "metadata": {},
   "outputs": [],
   "source": [
    "def depend_search(name):\n",
    "    result = round(df.groupby(name)['Loan_Status'].mean(), 4)*100\n",
    "    print('процент возврата кредита по котегориям')\n",
    "\n",
    "    return result\n",
    "\n",
    "def depend_visual(analis_name, name):\n",
    "    analis_name.plot(kind='bar', x=name, color='#009B48')"
   ]
  },
  {
   "cell_type": "markdown",
   "id": "6f15aaca",
   "metadata": {},
   "source": [
    "### Визуализации процента возврата кредита по категориям зарплат "
   ]
  },
  {
   "cell_type": "code",
   "execution_count": 563,
   "id": "7b4fdfbd",
   "metadata": {},
   "outputs": [
    {
     "name": "stdout",
     "output_type": "stream",
     "text": [
      "процент возврата кредита по котегориям\n"
     ]
    },
    {
     "data": {
      "text/plain": [
       "LoanAmount_category\n",
       "0-100      69.48\n",
       "100-200    70.00\n",
       "200-300    62.75\n",
       "300-400    46.67\n",
       "400-500    66.67\n",
       "500-700    80.00\n",
       "Name: Loan_Status, dtype: float64"
      ]
     },
     "execution_count": 563,
     "metadata": {},
     "output_type": "execute_result"
    }
   ],
   "source": [
    "analis_loanAmount = depend_search('LoanAmount_category')\n",
    "analis_loanAmount"
   ]
  },
  {
   "cell_type": "code",
   "execution_count": 564,
   "id": "0fbc5fce",
   "metadata": {},
   "outputs": [
    {
     "data": {
      "image/png": "[encoded data removed]",
      "text/plain": [
       "<Figure size 640x480 with 1 Axes>"
      ]
     },
     "metadata": {},
     "output_type": "display_data"
    }
   ],
   "source": [
    "depend_visual(analis_name=analis_loanAmount, name='LoanAmount_category')"
   ]
  },
  {
   "cell_type": "markdown",
   "id": "1b4b35e6",
   "metadata": {},
   "source": [
    "Можно увидеть, что заемщики с заработком более 500 тысяч (*80%*) чаще остальных возвращают кредит в срок. На втором месте по платежеспособности люди с заработком от 0 до 200 тысяч (*примерно 70%*).\n",
    "\n",
    "При этом минимальные показатели оказались у группы с заработком от 300 до 400 (*менее 50%*)"
   ]
  },
  {
   "cell_type": "markdown",
   "id": "9c004260",
   "metadata": {},
   "source": [
    "### Визуализации процента возврата кредита в зависимости от семейного положения "
   ]
  },
  {
   "cell_type": "code",
   "execution_count": 565,
   "id": "8c6a8e6e",
   "metadata": {},
   "outputs": [
    {
     "name": "stdout",
     "output_type": "stream",
     "text": [
      "процент возврата кредита по котегориям\n"
     ]
    },
    {
     "data": {
      "text/plain": [
       "Married\n",
       "married        71.61\n",
       "not married    62.91\n",
       "Name: Loan_Status, dtype: float64"
      ]
     },
     "execution_count": 565,
     "metadata": {},
     "output_type": "execute_result"
    }
   ],
   "source": [
    "df['Married'] = df['Married'].map({1.0: 'married', 0.0: 'not married'})\n",
    "analis_married = depend_search('Married')\n",
    "analis_married"
   ]
  },
  {
   "cell_type": "code",
   "execution_count": 566,
   "id": "0d7219d1",
   "metadata": {},
   "outputs": [
    {
     "data": {
      "image/png": "[encoded data removed]",
      "text/plain": [
       "<Figure size 640x480 with 1 Axes>"
      ]
     },
     "metadata": {},
     "output_type": "display_data"
    }
   ],
   "source": [
    "depend_visual(analis_name=analis_married, name='Married')"
   ]
  },
  {
   "cell_type": "markdown",
   "id": "ff2aab7c",
   "metadata": {},
   "source": [
    "Заемщики состоящие в браке, вовремя закрывают кредит в среднем на **8%** чаще. \n",
    "\n",
    "Это может быть связано с тем, что люди вступившие в брак, обычно люди готовые и умеющие брать ответственность. Поэтому чаще своевременно закрывают долги."
   ]
  },
  {
   "cell_type": "markdown",
   "id": "1cda55a1",
   "metadata": {},
   "source": [
    "### Визуализации процента возврата кредита в зависимости от гендера "
   ]
  },
  {
   "cell_type": "code",
   "execution_count": 567,
   "id": "8ad8efa3",
   "metadata": {},
   "outputs": [
    {
     "name": "stdout",
     "output_type": "stream",
     "text": [
      "процент возврата кредита по котегориям\n"
     ]
    },
    {
     "data": {
      "text/plain": [
       "Gender\n",
       "man      69.33\n",
       "woman    66.96\n",
       "Name: Loan_Status, dtype: float64"
      ]
     },
     "execution_count": 567,
     "metadata": {},
     "output_type": "execute_result"
    }
   ],
   "source": [
    "df['Gender'] = df['Gender'].map({1.0: 'man', 0.0: 'woman'})\n",
    "analis_gender = depend_search('Gender')\n",
    "analis_gender"
   ]
  },
  {
   "cell_type": "code",
   "execution_count": 568,
   "id": "bacfa3e0",
   "metadata": {},
   "outputs": [
    {
     "data": {
      "image/png": "[encoded data removed]",
      "text/plain": [
       "<Figure size 640x480 with 1 Axes>"
      ]
     },
     "metadata": {},
     "output_type": "display_data"
    }
   ],
   "source": [
    "depend_visual(analis_name=analis_gender, name='Gender')"
   ]
  },
  {
   "cell_type": "markdown",
   "id": "802f0990",
   "metadata": {},
   "source": [
    "Разница между гендерами лежит в пределах статистической погрешности, **менее 3%** разницы. \n",
    "\n",
    "Закрытие кредита в срок не зависит от гендера."
   ]
  },
  {
   "cell_type": "markdown",
   "id": "00b8c473",
   "metadata": {},
   "source": [
    "### Визуализации процента возврата кредита в зависимости от образования"
   ]
  },
  {
   "cell_type": "code",
   "execution_count": 569,
   "id": "4691e773",
   "metadata": {},
   "outputs": [
    {
     "name": "stdout",
     "output_type": "stream",
     "text": [
      "процент возврата кредита по котегориям\n"
     ]
    },
    {
     "data": {
      "text/plain": [
       "Education\n",
       "Graduete        70.83\n",
       "Not Graduate    61.19\n",
       "Name: Loan_Status, dtype: float64"
      ]
     },
     "execution_count": 569,
     "metadata": {},
     "output_type": "execute_result"
    }
   ],
   "source": [
    "df['Education'] = df['Education'].map({1.0: 'Graduete', 0.0: 'Not Graduate'})\n",
    "analis_education = depend_search('Education')\n",
    "analis_education"
   ]
  },
  {
   "cell_type": "code",
   "execution_count": 570,
   "id": "949968fd",
   "metadata": {},
   "outputs": [
    {
     "data": {
      "image/png": "[encoded data removed]",
      "text/plain": [
       "<Figure size 640x480 with 1 Axes>"
      ]
     },
     "metadata": {},
     "output_type": "display_data"
    }
   ],
   "source": [
    "depend_visual(analis_name=analis_education, name='Education')"
   ]
  },
  {
   "cell_type": "markdown",
   "id": "8cd79e7a",
   "metadata": {},
   "source": [
    "Заемщики, получившие образование почти на **10%** чаще закрывают кредит своевременно. \n",
    "\n",
    "Здесь может быть такая же логика как с браком, такие люди зачастую более ответственные, чем люди без образования."
   ]
  },
  {
   "cell_type": "markdown",
   "id": "667bbfed",
   "metadata": {},
   "source": [
    "### Визуализации процента возврата кредита по категориям кридитной истории "
   ]
  },
  {
   "cell_type": "code",
   "execution_count": 571,
   "id": "e5373c7b",
   "metadata": {},
   "outputs": [],
   "source": [
    "def categorize_hitory(income):\n",
    "    try:\n",
    "        if 0 <= income <= 0.5:\n",
    "            return '0-0.5'\n",
    "        elif 0.5 < income <= 0.8:\n",
    "            return '0.5-0.8'\n",
    "        elif 0.8 < income <= 0.85:\n",
    "            return '0.8-0.85'\n",
    "        elif 0.85 < income <= 0.9:\n",
    "            return '0.85-0.9'\n",
    "        elif 0.9 < income <= 0.95:\n",
    "            return '0.9-0.95'\n",
    "        elif 0.95 < income <= 1:\n",
    "            return '0.95-1'\n",
    "    except:\n",
    "        pass"
   ]
  },
  {
   "cell_type": "code",
   "execution_count": 572,
   "id": "3f1f3fc2",
   "metadata": {},
   "outputs": [
    {
     "name": "stdout",
     "output_type": "stream",
     "text": [
      "процент возврата кредита по котегориям\n"
     ]
    },
    {
     "data": {
      "text/plain": [
       "Credit_History_ctegory\n",
       "0-0.5        7.87\n",
       "0.8-0.85    74.00\n",
       "0.95-1      79.58\n",
       "Name: Loan_Status, dtype: float64"
      ]
     },
     "execution_count": 572,
     "metadata": {},
     "output_type": "execute_result"
    }
   ],
   "source": [
    "df['Credit_History_ctegory'] = df['Credit_History'].apply(categorize_hitory)\n",
    "analis_credit_history = depend_search('Credit_History_ctegory')\n",
    "analis_credit_history"
   ]
  },
  {
   "cell_type": "code",
   "execution_count": 573,
   "id": "3567b266",
   "metadata": {},
   "outputs": [
    {
     "data": {
      "image/png": "[encoded data removed]",
      "text/plain": [
       "<Figure size 640x480 with 1 Axes>"
      ]
     },
     "metadata": {},
     "output_type": "display_data"
    }
   ],
   "source": [
    "depend_visual(analis_name=analis_credit_history, name='Credit_History_ctegory')"
   ]
  },
  {
   "cell_type": "code",
   "execution_count": 574,
   "id": "1558f682",
   "metadata": {},
   "outputs": [
    {
     "data": {
      "text/plain": [
       "Credit_History_ctegory\n",
       "0-0.5        89\n",
       "0.8-0.85     50\n",
       "0.95-1      475\n",
       "Name: Loan_Status, dtype: int64"
      ]
     },
     "execution_count": 574,
     "metadata": {},
     "output_type": "execute_result"
    }
   ],
   "source": [
    "df.groupby('Credit_History_ctegory')['Loan_Status'].count()"
   ]
  },
  {
   "cell_type": "markdown",
   "id": "5e977aab",
   "metadata": {},
   "source": [
    "Здесь прослеживается явная зависимость кредитной истории, от  вероятности закрыть задолженность в срок. Заемщики с около нулевой кредитной историей почти на **70%** реже закрывают кредит в срок. \n",
    "\n",
    "Это может быть связано с тем, что люди берут кредит в первый раз и не могут точно оценить, какой ежемесечный платеж они смогут оплачивать. "
   ]
  },
  {
   "cell_type": "markdown",
   "id": "7db20482",
   "metadata": {},
   "source": [
    "## 4. Ответы на исследовательские вопросы "
   ]
  },
  {
   "cell_type": "markdown",
   "id": "1860f1db",
   "metadata": {},
   "source": [
    "Ключевые факторы платёжеспособности:\n",
    "\n",
    "* Наличие высшего образования (+9.64%)\n",
    "* Состояние в браке (+8.7%)\n",
    "* Высокий уровень дохода (особенно категория 500-700 тыс.)\n",
    "\n"
   ]
  },
  {
   "cell_type": "markdown",
   "id": "b4ae846d",
   "metadata": {},
   "source": [
    "Стоит обратить внимание на людей с зарплатой от 300 до 400 тысяч, проводить для них дополнительные проверки. А так же предусмореть кредитный лимит для заемщиков без кредитной истории. "
   ]
  }
 ],
 "metadata": {
  "kernelspec": {
   "display_name": "base",
   "language": "python",
   "name": "python3"
  },
  "language_info": {
   "codemirror_mode": {
    "name": "ipython",
    "version": 3
   },
   "file_extension": ".py",
   "mimetype": "text/x-python",
   "name": "python",
   "nbconvert_exporter": "python",
   "pygments_lexer": "ipython3",
   "version": "3.13.5"
  }
 },
 "nbformat": 4,
 "nbformat_minor": 5
}
