{
 "cells": [
  {
   "cell_type": "markdown",
   "id": "3045805a",
   "metadata": {},
   "source": [
    "# Выбор ключевой метрики на основе модели монетизации"
   ]
  },
  {
   "cell_type": "code",
   "execution_count": 101,
   "id": "00e32f8c",
   "metadata": {},
   "outputs": [],
   "source": [
    "import pandas as pd\n",
    "import numpy as np"
   ]
  },
  {
   "cell_type": "markdown",
   "id": "da24bb2b",
   "metadata": {},
   "source": [
    "## Модель подписки"
   ]
  },
  {
   "cell_type": "markdown",
   "id": "50c1c9a9",
   "metadata": {},
   "source": [
    "### Проверяем данные"
   ]
  },
  {
   "cell_type": "code",
   "execution_count": 102,
   "id": "116253cb",
   "metadata": {},
   "outputs": [],
   "source": [
    "data_subscrip = pd.read_csv('customer_product.csv', nrows=100000)"
   ]
  },
  {
   "cell_type": "code",
   "execution_count": 103,
   "id": "471e697e",
   "metadata": {},
   "outputs": [
    {
     "data": {
      "text/html": [
       "<div>\n",
       "<style scoped>\n",
       "    .dataframe tbody tr th:only-of-type {\n",
       "        vertical-align: middle;\n",
       "    }\n",
       "\n",
       "    .dataframe tbody tr th {\n",
       "        vertical-align: top;\n",
       "    }\n",
       "\n",
       "    .dataframe thead th {\n",
       "        text-align: right;\n",
       "    }\n",
       "</style>\n",
       "<table border=\"1\" class=\"dataframe\">\n",
       "  <thead>\n",
       "    <tr style=\"text-align: right;\">\n",
       "      <th></th>\n",
       "      <th>Unnamed: 0</th>\n",
       "      <th>customer_id</th>\n",
       "      <th>product</th>\n",
       "      <th>signup_date_time</th>\n",
       "      <th>cancel_date_time</th>\n",
       "    </tr>\n",
       "  </thead>\n",
       "  <tbody>\n",
       "    <tr>\n",
       "      <th>0</th>\n",
       "      <td>1</td>\n",
       "      <td>C2448</td>\n",
       "      <td>prd_1</td>\n",
       "      <td>2017-01-01 10:35:09</td>\n",
       "      <td>NaN</td>\n",
       "    </tr>\n",
       "    <tr>\n",
       "      <th>1</th>\n",
       "      <td>2</td>\n",
       "      <td>C2449</td>\n",
       "      <td>prd_1</td>\n",
       "      <td>2017-01-01 11:39:29</td>\n",
       "      <td>2021-09-05 10:00:02</td>\n",
       "    </tr>\n",
       "    <tr>\n",
       "      <th>2</th>\n",
       "      <td>3</td>\n",
       "      <td>C2450</td>\n",
       "      <td>prd_1</td>\n",
       "      <td>2017-01-01 11:42:00</td>\n",
       "      <td>2019-01-13 16:24:55</td>\n",
       "    </tr>\n",
       "    <tr>\n",
       "      <th>3</th>\n",
       "      <td>4</td>\n",
       "      <td>C2451</td>\n",
       "      <td>prd_2</td>\n",
       "      <td>2017-01-01 13:32:08</td>\n",
       "      <td>NaN</td>\n",
       "    </tr>\n",
       "    <tr>\n",
       "      <th>4</th>\n",
       "      <td>5</td>\n",
       "      <td>C2452</td>\n",
       "      <td>prd_1</td>\n",
       "      <td>2017-01-01 13:57:30</td>\n",
       "      <td>2021-06-28 18:06:01</td>\n",
       "    </tr>\n",
       "  </tbody>\n",
       "</table>\n",
       "</div>"
      ],
      "text/plain": [
       "   Unnamed: 0 customer_id product     signup_date_time     cancel_date_time\n",
       "0           1       C2448   prd_1  2017-01-01 10:35:09                  NaN\n",
       "1           2       C2449   prd_1  2017-01-01 11:39:29  2021-09-05 10:00:02\n",
       "2           3       C2450   prd_1  2017-01-01 11:42:00  2019-01-13 16:24:55\n",
       "3           4       C2451   prd_2  2017-01-01 13:32:08                  NaN\n",
       "4           5       C2452   prd_1  2017-01-01 13:57:30  2021-06-28 18:06:01"
      ]
     },
     "execution_count": 103,
     "metadata": {},
     "output_type": "execute_result"
    }
   ],
   "source": [
    "data_subscrip.head()"
   ]
  },
  {
   "cell_type": "code",
   "execution_count": 104,
   "id": "54ff5cf6",
   "metadata": {},
   "outputs": [],
   "source": [
    "data_subscrip['cancel_date_time'] = pd.to_datetime(data_subscrip['cancel_date_time'])\n",
    "data_subscrip['signup_date_time'] = pd.to_datetime(data_subscrip['signup_date_time'])"
   ]
  },
  {
   "cell_type": "markdown",
   "id": "d2f5039f",
   "metadata": {},
   "source": [
    "### Метрики"
   ]
  },
  {
   "cell_type": "markdown",
   "id": "2f4c620e",
   "metadata": {},
   "source": [
    "1. Конверсия в подписку — доля новых пользователей, которые оформили подписку."
   ]
  },
  {
   "cell_type": "code",
   "execution_count": 105,
   "id": "7eae6847",
   "metadata": {},
   "outputs": [],
   "source": [
    "# def conversion(product_type, month, year):\n",
    "#     data_subscrip[(data_subscrip['signup_date_time'].dt.month = month) & \n",
    "#                   (data_subscrip['signup_date_time'].dt.year = year)].count()"
   ]
  },
  {
   "cell_type": "markdown",
   "id": "17da9d28",
   "metadata": {},
   "source": [
    "2. Retention (англ. «удержание») — доля подписчиков одного из прошлых месяцев, которые продолжили платить за подписку в текущем месяце.\n"
   ]
  },
  {
   "cell_type": "code",
   "execution_count": 106,
   "id": "4823c3a4",
   "metadata": {},
   "outputs": [
    {
     "data": {
      "text/plain": [
       "98.94"
      ]
     },
     "execution_count": 106,
     "metadata": {},
     "output_type": "execute_result"
    }
   ],
   "source": [
    "def retention(product_type, month, year):\n",
    "    \n",
    "    currnt_munth_start = pd.Timestamp(year=year, month=month, day=1)\n",
    "\n",
    "    if (currnt_munth_start > data_subscrip['signup_date_time'].max()) or (currnt_munth_start < data_subscrip['signup_date_time'].min()):\n",
    "        return np.nan\n",
    "\n",
    "    if month+1 == 13:\n",
    "        next_month_start = pd.Timestamp(year=year+1, month=1, day=1)\n",
    "    else:\n",
    "        next_month_start = pd.Timestamp(year=year, month=month+1, day=1)\n",
    "\n",
    "    # активные пользователей в прошлом месяце\n",
    "    activ_last_month = data_subscrip[(data_subscrip['product'] == product_type) & \n",
    "                              \n",
    "                              # проверям, что оформил подписку не позднее прошлого месяца\n",
    "                              (data_subscrip['signup_date_time'] < currnt_munth_start) &\n",
    "                              \n",
    "                              # проверяем, что завершил подписку не раньше прошлого месяца\n",
    "                              ((data_subscrip['cancel_date_time'] >= currnt_munth_start) |      \n",
    "                                (data_subscrip['cancel_date_time'].isna()))]\n",
    "    \n",
    "\n",
    "    count_last_month = len(activ_last_month)\n",
    "\n",
    "    if count_last_month == 0:\n",
    "        return 0\n",
    "\n",
    "    # знаем какие пользователи были в продукте в прошлом месяце, ищем какие из них остались в этом \n",
    "    activ_new_month = activ_last_month[(activ_last_month['cancel_date_time'] >= next_month_start) |      \n",
    "                                        (activ_last_month['cancel_date_time'].isna())]\n",
    "    \n",
    "    count_new_month = len(activ_new_month)\n",
    "\n",
    "    # считаем retention\n",
    "    retention_value = count_new_month/count_last_month           \n",
    "\n",
    "    return round(retention_value*100, 2)\n",
    "\n",
    "retention('prd_1', 12, 2020)"
   ]
  },
  {
   "cell_type": "code",
   "execution_count": 107,
   "id": "b0de1186",
   "metadata": {},
   "outputs": [],
   "source": [
    "data = pd.DataFrame({\n",
    "    'month': [],\n",
    "    'retention': []\n",
    "})"
   ]
  },
  {
   "cell_type": "code",
   "execution_count": 108,
   "id": "35626e53",
   "metadata": {},
   "outputs": [],
   "source": [
    "data['month'] = data_subscrip['signup_date_time'].dt.to_period('M').unique()\n",
    "data['retention'] = data['month'].apply(lambda x: retention('prd_1', x.month, x.year))"
   ]
  },
  {
   "cell_type": "code",
   "execution_count": 109,
   "id": "630c6140",
   "metadata": {},
   "outputs": [
    {
     "data": {
      "text/plain": [
       "(51, 2)"
      ]
     },
     "execution_count": 109,
     "metadata": {},
     "output_type": "execute_result"
    }
   ],
   "source": [
    "data.shape"
   ]
  },
  {
   "cell_type": "code",
   "execution_count": 110,
   "id": "3a2f3400",
   "metadata": {},
   "outputs": [
    {
     "data": {
      "text/plain": [
       "<Axes: xlabel='month'>"
      ]
     },
     "execution_count": 110,
     "metadata": {},
     "output_type": "execute_result"
    },
    {
     "data": {
      "image/png": "[encoded data removed]",
      "text/plain": [
       "<Figure size 640x480 with 1 Axes>"
      ]
     },
     "metadata": {},
     "output_type": "display_data"
    }
   ],
   "source": [
    "data.plot(kind='line', x='month', y='retention')"
   ]
  },
  {
   "cell_type": "markdown",
   "id": "3a7f79c3",
   "metadata": {},
   "source": [
    "## Рекламная модель "
   ]
  },
  {
   "cell_type": "markdown",
   "id": "3e44989b",
   "metadata": {},
   "source": [
    "### Проверяем данные "
   ]
  },
  {
   "cell_type": "code",
   "execution_count": 111,
   "id": "7fb53ebf",
   "metadata": {},
   "outputs": [],
   "source": [
    "data_advertising = pd.read_csv('online_advertising_performance_data.csv', nrows=100000)"
   ]
  },
  {
   "cell_type": "code",
   "execution_count": 112,
   "id": "4a841ad4",
   "metadata": {},
   "outputs": [
    {
     "name": "stdout",
     "output_type": "stream",
     "text": [
      "<class 'pandas.core.frame.DataFrame'>\n",
      "RangeIndex: 15408 entries, 0 to 15407\n",
      "Data columns (total 14 columns):\n",
      " #   Column                   Non-Null Count  Dtype  \n",
      "---  ------                   --------------  -----  \n",
      " 0   month                    15408 non-null  object \n",
      " 1   day                      15408 non-null  int64  \n",
      " 2   campaign_number          15408 non-null  object \n",
      " 3   user_engagement          15408 non-null  object \n",
      " 4   banner                   15408 non-null  object \n",
      " 5   placement                14995 non-null  object \n",
      " 6   displays                 15408 non-null  int64  \n",
      " 7   cost                     15408 non-null  float64\n",
      " 8   clicks                   15408 non-null  int64  \n",
      " 9   revenue                  15408 non-null  float64\n",
      " 10  post_click_conversions   15408 non-null  int64  \n",
      " 11  post_click_sales_amount  15408 non-null  float64\n",
      " 12  Unnamed: 12              0 non-null      float64\n",
      " 13  Unnamed: 13              0 non-null      float64\n",
      "dtypes: float64(5), int64(4), object(5)\n",
      "memory usage: 1.6+ MB\n"
     ]
    },
    {
     "data": {
      "text/plain": [
       "(None,\n",
       "                 day       displays          cost        clicks       revenue  \\\n",
       " count  15408.000000   15408.000000  15408.000000  15408.000000  15408.000000   \n",
       " mean      15.518886   15512.573014     11.370262    161.788487     17.929943   \n",
       " std        8.740909   44392.392890     45.369499    728.276911     96.781834   \n",
       " min        1.000000       0.000000      0.000000      0.000000      0.000000   \n",
       " 25%        8.000000      78.000000      0.024000      0.000000      0.000000   \n",
       " 50%       15.000000    1182.000000      0.339850      6.000000      0.483950   \n",
       " 75%       23.000000    8960.250000      2.536225     53.000000      3.839800   \n",
       " max       31.000000  455986.000000    556.704800  14566.000000   2096.211600   \n",
       " \n",
       "        post_click_conversions  post_click_sales_amount  Unnamed: 12  \\\n",
       " count            15408.000000             15408.000000          0.0   \n",
       " mean                42.300623              2123.288058          NaN   \n",
       " std                213.685660             10523.029607          NaN   \n",
       " min                  0.000000                 0.000000          NaN   \n",
       " 25%                  0.000000                 0.000000          NaN   \n",
       " 50%                  0.000000                 0.000000          NaN   \n",
       " 75%                  3.000000               163.351200          NaN   \n",
       " max               3369.000000            199930.318000          NaN   \n",
       " \n",
       "        Unnamed: 13  \n",
       " count          0.0  \n",
       " mean           NaN  \n",
       " std            NaN  \n",
       " min            NaN  \n",
       " 25%            NaN  \n",
       " 50%            NaN  \n",
       " 75%            NaN  \n",
       " max            NaN  )"
      ]
     },
     "execution_count": 112,
     "metadata": {},
     "output_type": "execute_result"
    }
   ],
   "source": [
    "data_advertising.info(), data_advertising.describe()"
   ]
  },
  {
   "cell_type": "code",
   "execution_count": 113,
   "id": "66003c5e",
   "metadata": {},
   "outputs": [
    {
     "data": {
      "text/html": [
       "<div>\n",
       "<style scoped>\n",
       "    .dataframe tbody tr th:only-of-type {\n",
       "        vertical-align: middle;\n",
       "    }\n",
       "\n",
       "    .dataframe tbody tr th {\n",
       "        vertical-align: top;\n",
       "    }\n",
       "\n",
       "    .dataframe thead th {\n",
       "        text-align: right;\n",
       "    }\n",
       "</style>\n",
       "<table border=\"1\" class=\"dataframe\">\n",
       "  <thead>\n",
       "    <tr style=\"text-align: right;\">\n",
       "      <th></th>\n",
       "      <th>month</th>\n",
       "      <th>day</th>\n",
       "      <th>campaign_number</th>\n",
       "      <th>user_engagement</th>\n",
       "      <th>banner</th>\n",
       "      <th>placement</th>\n",
       "      <th>displays</th>\n",
       "      <th>cost</th>\n",
       "      <th>clicks</th>\n",
       "      <th>revenue</th>\n",
       "      <th>post_click_conversions</th>\n",
       "      <th>post_click_sales_amount</th>\n",
       "      <th>Unnamed: 12</th>\n",
       "      <th>Unnamed: 13</th>\n",
       "    </tr>\n",
       "  </thead>\n",
       "  <tbody>\n",
       "    <tr>\n",
       "      <th>0</th>\n",
       "      <td>April</td>\n",
       "      <td>1</td>\n",
       "      <td>camp 1</td>\n",
       "      <td>High</td>\n",
       "      <td>160 x 600</td>\n",
       "      <td>abc</td>\n",
       "      <td>4</td>\n",
       "      <td>0.0060</td>\n",
       "      <td>0</td>\n",
       "      <td>0.0000</td>\n",
       "      <td>0</td>\n",
       "      <td>0.0000</td>\n",
       "      <td>NaN</td>\n",
       "      <td>NaN</td>\n",
       "    </tr>\n",
       "    <tr>\n",
       "      <th>1</th>\n",
       "      <td>April</td>\n",
       "      <td>1</td>\n",
       "      <td>camp 1</td>\n",
       "      <td>High</td>\n",
       "      <td>160 x 600</td>\n",
       "      <td>def</td>\n",
       "      <td>20170</td>\n",
       "      <td>26.7824</td>\n",
       "      <td>158</td>\n",
       "      <td>28.9717</td>\n",
       "      <td>23</td>\n",
       "      <td>1972.4602</td>\n",
       "      <td>NaN</td>\n",
       "      <td>NaN</td>\n",
       "    </tr>\n",
       "    <tr>\n",
       "      <th>2</th>\n",
       "      <td>April</td>\n",
       "      <td>1</td>\n",
       "      <td>camp 1</td>\n",
       "      <td>High</td>\n",
       "      <td>160 x 600</td>\n",
       "      <td>ghi</td>\n",
       "      <td>14701</td>\n",
       "      <td>27.6304</td>\n",
       "      <td>158</td>\n",
       "      <td>28.9771</td>\n",
       "      <td>78</td>\n",
       "      <td>2497.2636</td>\n",
       "      <td>NaN</td>\n",
       "      <td>NaN</td>\n",
       "    </tr>\n",
       "    <tr>\n",
       "      <th>3</th>\n",
       "      <td>April</td>\n",
       "      <td>1</td>\n",
       "      <td>camp 1</td>\n",
       "      <td>High</td>\n",
       "      <td>160 x 600</td>\n",
       "      <td>mno</td>\n",
       "      <td>171259</td>\n",
       "      <td>216.8750</td>\n",
       "      <td>1796</td>\n",
       "      <td>329.4518</td>\n",
       "      <td>617</td>\n",
       "      <td>24625.3234</td>\n",
       "      <td>NaN</td>\n",
       "      <td>NaN</td>\n",
       "    </tr>\n",
       "    <tr>\n",
       "      <th>4</th>\n",
       "      <td>April</td>\n",
       "      <td>1</td>\n",
       "      <td>camp 1</td>\n",
       "      <td>Low</td>\n",
       "      <td>160 x 600</td>\n",
       "      <td>def</td>\n",
       "      <td>552</td>\n",
       "      <td>0.0670</td>\n",
       "      <td>1</td>\n",
       "      <td>0.1834</td>\n",
       "      <td>0</td>\n",
       "      <td>0.0000</td>\n",
       "      <td>NaN</td>\n",
       "      <td>NaN</td>\n",
       "    </tr>\n",
       "  </tbody>\n",
       "</table>\n",
       "</div>"
      ],
      "text/plain": [
       "   month  day campaign_number user_engagement     banner placement  displays  \\\n",
       "0  April    1          camp 1            High  160 x 600       abc         4   \n",
       "1  April    1          camp 1            High  160 x 600       def     20170   \n",
       "2  April    1          camp 1            High  160 x 600       ghi     14701   \n",
       "3  April    1          camp 1            High  160 x 600       mno    171259   \n",
       "4  April    1          camp 1             Low  160 x 600       def       552   \n",
       "\n",
       "       cost  clicks   revenue  post_click_conversions  \\\n",
       "0    0.0060       0    0.0000                       0   \n",
       "1   26.7824     158   28.9717                      23   \n",
       "2   27.6304     158   28.9771                      78   \n",
       "3  216.8750    1796  329.4518                     617   \n",
       "4    0.0670       1    0.1834                       0   \n",
       "\n",
       "   post_click_sales_amount  Unnamed: 12  Unnamed: 13  \n",
       "0                   0.0000          NaN          NaN  \n",
       "1                1972.4602          NaN          NaN  \n",
       "2                2497.2636          NaN          NaN  \n",
       "3               24625.3234          NaN          NaN  \n",
       "4                   0.0000          NaN          NaN  "
      ]
     },
     "execution_count": 113,
     "metadata": {},
     "output_type": "execute_result"
    }
   ],
   "source": [
    "data_advertising.head()"
   ]
  },
  {
   "cell_type": "code",
   "execution_count": 114,
   "id": "d7217c3e",
   "metadata": {},
   "outputs": [
    {
     "data": {
      "text/plain": [
       "month\n",
       "April    6269\n",
       "May      4705\n",
       "June     4434\n",
       "Name: count, dtype: int64"
      ]
     },
     "execution_count": 114,
     "metadata": {},
     "output_type": "execute_result"
    }
   ],
   "source": [
    "data_advertising['month'].value_counts()"
   ]
  },
  {
   "cell_type": "code",
   "execution_count": 115,
   "id": "6a56e741",
   "metadata": {},
   "outputs": [],
   "source": [
    "data_advertising['month'] = pd.to_datetime(data_advertising['month'], format='%B').dt.month\n",
    "\n",
    "def rename_(month, day):\n",
    "    data = pd.Timestamp(year=2020, month=month, day=day)\n",
    "    return data\n",
    "\n",
    "data_advertising['data'] = data_advertising[['month', 'day']].apply(lambda x: rename_(x['month'], x['day']), \n",
    "                                                                    axis=1)"
   ]
  },
  {
   "cell_type": "code",
   "execution_count": 116,
   "id": "4dfcb386",
   "metadata": {},
   "outputs": [
    {
     "data": {
      "text/html": [
       "<div>\n",
       "<style scoped>\n",
       "    .dataframe tbody tr th:only-of-type {\n",
       "        vertical-align: middle;\n",
       "    }\n",
       "\n",
       "    .dataframe tbody tr th {\n",
       "        vertical-align: top;\n",
       "    }\n",
       "\n",
       "    .dataframe thead th {\n",
       "        text-align: right;\n",
       "    }\n",
       "</style>\n",
       "<table border=\"1\" class=\"dataframe\">\n",
       "  <thead>\n",
       "    <tr style=\"text-align: right;\">\n",
       "      <th></th>\n",
       "      <th>month</th>\n",
       "      <th>day</th>\n",
       "      <th>campaign_number</th>\n",
       "      <th>user_engagement</th>\n",
       "      <th>banner</th>\n",
       "      <th>placement</th>\n",
       "      <th>displays</th>\n",
       "      <th>cost</th>\n",
       "      <th>clicks</th>\n",
       "      <th>revenue</th>\n",
       "      <th>post_click_conversions</th>\n",
       "      <th>post_click_sales_amount</th>\n",
       "      <th>Unnamed: 12</th>\n",
       "      <th>Unnamed: 13</th>\n",
       "      <th>data</th>\n",
       "    </tr>\n",
       "  </thead>\n",
       "  <tbody>\n",
       "    <tr>\n",
       "      <th>0</th>\n",
       "      <td>4</td>\n",
       "      <td>1</td>\n",
       "      <td>camp 1</td>\n",
       "      <td>High</td>\n",
       "      <td>160 x 600</td>\n",
       "      <td>abc</td>\n",
       "      <td>4</td>\n",
       "      <td>0.0060</td>\n",
       "      <td>0</td>\n",
       "      <td>0.0000</td>\n",
       "      <td>0</td>\n",
       "      <td>0.0000</td>\n",
       "      <td>NaN</td>\n",
       "      <td>NaN</td>\n",
       "      <td>2020-04-01</td>\n",
       "    </tr>\n",
       "    <tr>\n",
       "      <th>1</th>\n",
       "      <td>4</td>\n",
       "      <td>1</td>\n",
       "      <td>camp 1</td>\n",
       "      <td>High</td>\n",
       "      <td>160 x 600</td>\n",
       "      <td>def</td>\n",
       "      <td>20170</td>\n",
       "      <td>26.7824</td>\n",
       "      <td>158</td>\n",
       "      <td>28.9717</td>\n",
       "      <td>23</td>\n",
       "      <td>1972.4602</td>\n",
       "      <td>NaN</td>\n",
       "      <td>NaN</td>\n",
       "      <td>2020-04-01</td>\n",
       "    </tr>\n",
       "    <tr>\n",
       "      <th>2</th>\n",
       "      <td>4</td>\n",
       "      <td>1</td>\n",
       "      <td>camp 1</td>\n",
       "      <td>High</td>\n",
       "      <td>160 x 600</td>\n",
       "      <td>ghi</td>\n",
       "      <td>14701</td>\n",
       "      <td>27.6304</td>\n",
       "      <td>158</td>\n",
       "      <td>28.9771</td>\n",
       "      <td>78</td>\n",
       "      <td>2497.2636</td>\n",
       "      <td>NaN</td>\n",
       "      <td>NaN</td>\n",
       "      <td>2020-04-01</td>\n",
       "    </tr>\n",
       "    <tr>\n",
       "      <th>3</th>\n",
       "      <td>4</td>\n",
       "      <td>1</td>\n",
       "      <td>camp 1</td>\n",
       "      <td>High</td>\n",
       "      <td>160 x 600</td>\n",
       "      <td>mno</td>\n",
       "      <td>171259</td>\n",
       "      <td>216.8750</td>\n",
       "      <td>1796</td>\n",
       "      <td>329.4518</td>\n",
       "      <td>617</td>\n",
       "      <td>24625.3234</td>\n",
       "      <td>NaN</td>\n",
       "      <td>NaN</td>\n",
       "      <td>2020-04-01</td>\n",
       "    </tr>\n",
       "    <tr>\n",
       "      <th>4</th>\n",
       "      <td>4</td>\n",
       "      <td>1</td>\n",
       "      <td>camp 1</td>\n",
       "      <td>Low</td>\n",
       "      <td>160 x 600</td>\n",
       "      <td>def</td>\n",
       "      <td>552</td>\n",
       "      <td>0.0670</td>\n",
       "      <td>1</td>\n",
       "      <td>0.1834</td>\n",
       "      <td>0</td>\n",
       "      <td>0.0000</td>\n",
       "      <td>NaN</td>\n",
       "      <td>NaN</td>\n",
       "      <td>2020-04-01</td>\n",
       "    </tr>\n",
       "  </tbody>\n",
       "</table>\n",
       "</div>"
      ],
      "text/plain": [
       "   month  day campaign_number user_engagement     banner placement  displays  \\\n",
       "0      4    1          camp 1            High  160 x 600       abc         4   \n",
       "1      4    1          camp 1            High  160 x 600       def     20170   \n",
       "2      4    1          camp 1            High  160 x 600       ghi     14701   \n",
       "3      4    1          camp 1            High  160 x 600       mno    171259   \n",
       "4      4    1          camp 1             Low  160 x 600       def       552   \n",
       "\n",
       "       cost  clicks   revenue  post_click_conversions  \\\n",
       "0    0.0060       0    0.0000                       0   \n",
       "1   26.7824     158   28.9717                      23   \n",
       "2   27.6304     158   28.9771                      78   \n",
       "3  216.8750    1796  329.4518                     617   \n",
       "4    0.0670       1    0.1834                       0   \n",
       "\n",
       "   post_click_sales_amount  Unnamed: 12  Unnamed: 13       data  \n",
       "0                   0.0000          NaN          NaN 2020-04-01  \n",
       "1                1972.4602          NaN          NaN 2020-04-01  \n",
       "2                2497.2636          NaN          NaN 2020-04-01  \n",
       "3               24625.3234          NaN          NaN 2020-04-01  \n",
       "4                   0.0000          NaN          NaN 2020-04-01  "
      ]
     },
     "execution_count": 116,
     "metadata": {},
     "output_type": "execute_result"
    }
   ],
   "source": [
    "data_advertising.head()"
   ]
  },
  {
   "cell_type": "markdown",
   "id": "881c8889",
   "metadata": {},
   "source": [
    "### Метрики"
   ]
  },
  {
   "cell_type": "markdown",
   "id": "4654a931",
   "metadata": {},
   "source": [
    "1. Средний доход на одного пользователя (ARPU) можно посчитать одним из двух методов в зависимости от того, за что платят рекламодатели."
   ]
  },
  {
   "cell_type": "code",
   "execution_count": 117,
   "id": "ae995050",
   "metadata": {},
   "outputs": [
    {
     "data": {
      "text/html": [
       "<div>\n",
       "<style scoped>\n",
       "    .dataframe tbody tr th:only-of-type {\n",
       "        vertical-align: middle;\n",
       "    }\n",
       "\n",
       "    .dataframe tbody tr th {\n",
       "        vertical-align: top;\n",
       "    }\n",
       "\n",
       "    .dataframe thead th {\n",
       "        text-align: right;\n",
       "    }\n",
       "</style>\n",
       "<table border=\"1\" class=\"dataframe\">\n",
       "  <thead>\n",
       "    <tr style=\"text-align: right;\">\n",
       "      <th></th>\n",
       "      <th>month</th>\n",
       "      <th>day</th>\n",
       "      <th>campaign_number</th>\n",
       "      <th>user_engagement</th>\n",
       "      <th>banner</th>\n",
       "      <th>placement</th>\n",
       "      <th>displays</th>\n",
       "      <th>cost</th>\n",
       "      <th>clicks</th>\n",
       "      <th>revenue</th>\n",
       "      <th>post_click_conversions</th>\n",
       "      <th>post_click_sales_amount</th>\n",
       "      <th>Unnamed: 12</th>\n",
       "      <th>Unnamed: 13</th>\n",
       "      <th>data</th>\n",
       "    </tr>\n",
       "  </thead>\n",
       "  <tbody>\n",
       "    <tr>\n",
       "      <th>0</th>\n",
       "      <td>4</td>\n",
       "      <td>1</td>\n",
       "      <td>camp 1</td>\n",
       "      <td>High</td>\n",
       "      <td>160 x 600</td>\n",
       "      <td>abc</td>\n",
       "      <td>4</td>\n",
       "      <td>0.0060</td>\n",
       "      <td>0</td>\n",
       "      <td>0.0000</td>\n",
       "      <td>0</td>\n",
       "      <td>0.0000</td>\n",
       "      <td>NaN</td>\n",
       "      <td>NaN</td>\n",
       "      <td>2020-04-01</td>\n",
       "    </tr>\n",
       "    <tr>\n",
       "      <th>1</th>\n",
       "      <td>4</td>\n",
       "      <td>1</td>\n",
       "      <td>camp 1</td>\n",
       "      <td>High</td>\n",
       "      <td>160 x 600</td>\n",
       "      <td>def</td>\n",
       "      <td>20170</td>\n",
       "      <td>26.7824</td>\n",
       "      <td>158</td>\n",
       "      <td>28.9717</td>\n",
       "      <td>23</td>\n",
       "      <td>1972.4602</td>\n",
       "      <td>NaN</td>\n",
       "      <td>NaN</td>\n",
       "      <td>2020-04-01</td>\n",
       "    </tr>\n",
       "    <tr>\n",
       "      <th>2</th>\n",
       "      <td>4</td>\n",
       "      <td>1</td>\n",
       "      <td>camp 1</td>\n",
       "      <td>High</td>\n",
       "      <td>160 x 600</td>\n",
       "      <td>ghi</td>\n",
       "      <td>14701</td>\n",
       "      <td>27.6304</td>\n",
       "      <td>158</td>\n",
       "      <td>28.9771</td>\n",
       "      <td>78</td>\n",
       "      <td>2497.2636</td>\n",
       "      <td>NaN</td>\n",
       "      <td>NaN</td>\n",
       "      <td>2020-04-01</td>\n",
       "    </tr>\n",
       "  </tbody>\n",
       "</table>\n",
       "</div>"
      ],
      "text/plain": [
       "   month  day campaign_number user_engagement     banner placement  displays  \\\n",
       "0      4    1          camp 1            High  160 x 600       abc         4   \n",
       "1      4    1          camp 1            High  160 x 600       def     20170   \n",
       "2      4    1          camp 1            High  160 x 600       ghi     14701   \n",
       "\n",
       "      cost  clicks  revenue  post_click_conversions  post_click_sales_amount  \\\n",
       "0   0.0060       0   0.0000                       0                   0.0000   \n",
       "1  26.7824     158  28.9717                      23                1972.4602   \n",
       "2  27.6304     158  28.9771                      78                2497.2636   \n",
       "\n",
       "   Unnamed: 12  Unnamed: 13       data  \n",
       "0          NaN          NaN 2020-04-01  \n",
       "1          NaN          NaN 2020-04-01  \n",
       "2          NaN          NaN 2020-04-01  "
      ]
     },
     "execution_count": 117,
     "metadata": {},
     "output_type": "execute_result"
    }
   ],
   "source": [
    "data_advertising.head(3)"
   ]
  },
  {
   "cell_type": "markdown",
   "id": "f5afe53f",
   "metadata": {},
   "source": [
    "* Когда платят за показы:\n",
    "\n",
    "*CPI (англ. cost per impression) — это стоимость одного показа рекламы. Часто встречается показатель CPM (англ. cost per mile) — стоимость 1000 показов.*"
   ]
  },
  {
   "cell_type": "code",
   "execution_count": null,
   "id": "7320090a",
   "metadata": {},
   "outputs": [],
   "source": []
  },
  {
   "cell_type": "markdown",
   "id": "32fefb96",
   "metadata": {},
   "source": [
    "* Когда платят за клики:\n",
    "\n",
    "*CTR (англ. click-through rate) — это отношение числа целевых действий к показам.*\n",
    "\n",
    "*CPA (англ. cost per action) — плата за целевое действие: клик, регистрацию, покупку или что-то ещё.*"
   ]
  },
  {
   "cell_type": "code",
   "execution_count": null,
   "id": "e6cd39ca",
   "metadata": {},
   "outputs": [],
   "source": []
  },
  {
   "cell_type": "markdown",
   "id": "5ef2b97e",
   "metadata": {},
   "source": [
    "## Транзакционная модель "
   ]
  },
  {
   "cell_type": "markdown",
   "id": "c80243e2",
   "metadata": {},
   "source": [
    "### Проверяем данные"
   ]
  },
  {
   "cell_type": "markdown",
   "id": "ca1a3096",
   "metadata": {},
   "source": [
    "### Метрики"
   ]
  },
  {
   "cell_type": "markdown",
   "id": "38c17781",
   "metadata": {},
   "source": [
    "1. **ARPU** (англ. average revenue per user) — средний доход с одного клиента.\n"
   ]
  },
  {
   "cell_type": "code",
   "execution_count": null,
   "id": "ebe39321",
   "metadata": {},
   "outputs": [],
   "source": []
  },
  {
   "cell_type": "markdown",
   "id": "d1e731fa",
   "metadata": {},
   "source": [
    "2. **Gross merchandise volume (GMV)** — общий объём продаж через платформу за период времени.\n"
   ]
  },
  {
   "cell_type": "code",
   "execution_count": null,
   "id": "790ecce9",
   "metadata": {},
   "outputs": [],
   "source": []
  },
  {
   "cell_type": "markdown",
   "id": "2708545b",
   "metadata": {},
   "source": [
    "3. **Gross transaction value (GTV)** — сумма полученных платформой комиссий с транзакций."
   ]
  },
  {
   "cell_type": "code",
   "execution_count": null,
   "id": "83096d9b",
   "metadata": {},
   "outputs": [],
   "source": []
  },
  {
   "cell_type": "markdown",
   "id": "cbdcbb24",
   "metadata": {},
   "source": [
    "Сложно принимать решения на основе GMV и GTV, поскольку они не берут в расчёт число пользователей и непонятно, почему они растут или падают."
   ]
  },
  {
   "cell_type": "markdown",
   "id": "eb2aa7d3",
   "metadata": {},
   "source": [
    "## Метрики, важные для всех типов монетизации"
   ]
  },
  {
   "cell_type": "markdown",
   "id": "102238f2",
   "metadata": {},
   "source": []
  }
 ],
 "metadata": {
  "kernelspec": {
   "display_name": "base",
   "language": "python",
   "name": "python3"
  },
  "language_info": {
   "codemirror_mode": {
    "name": "ipython",
    "version": 3
   },
   "file_extension": ".py",
   "mimetype": "text/x-python",
   "name": "python",
   "nbconvert_exporter": "python",
   "pygments_lexer": "ipython3",
   "version": "3.13.5"
  }
 },
 "nbformat": 4,
 "nbformat_minor": 5
}
